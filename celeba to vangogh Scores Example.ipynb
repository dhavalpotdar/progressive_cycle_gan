{
 "cells": [
  {
   "cell_type": "code",
   "execution_count": null,
   "metadata": {},
   "outputs": [],
   "source": [
    "#Example 1: we directly take all vangogh or monet dataset and use as real_dir, and then calculate FID and Inception score\n",
    "#fake_dir for score calclation means the generated stylised image and real_dir means the original monet/vangogh data\n",
    "\n",
    "from utils import compute_fid, compute_inception_score\n",
    "from testloaders import test_on_celeba\n",
    "\n",
    "# Load generator and generate fake images\n",
    "gen_A2B_loaded = GeneratorCycleGAN(in_channels=256, img_channels=3).to(\"cuda\")\n",
    "generator = load_genA2B(\"./path/to/checkpoint.pth\", gen_A2B_loaded)\n",
    "test_on_celeba(generator, num_steps=3, fake_dir=\"eval_images/fake\")\n",
    "\n",
    "# Evaluate\n",
    "real_dir = \"data/vangogh/train\"\n",
    "fake_dir = \"./eval_images/fake\"\n",
    "fid_score = compute_fid(real_dir, fake_dir)\n",
    "print(f\"FID Score: {fid_score}\")\n",
    "\n",
    "inception_score = compute_inception_score(fake_dir)\n",
    "print(f\"Inception Score: {inception_score}\")\n"
   ]
  },
  {
   "cell_type": "code",
   "execution_count": null,
   "metadata": {},
   "outputs": [],
   "source": [
    "#Example 2: we sample real_dir such that no. of images is same as fake_dir, to not get bias FID\n",
    "#fake_dir for score calclation means the generated stylised image and real_dir means the original monet/vangogh data\n",
    "\n",
    "from utils import compute_fid, compute_inception_score\n",
    "from testloaders import test_on_celeba\n",
    "\n",
    "# Load generator and generate fake images\n",
    "gen_A2B_loaded = GeneratorCycleGAN(in_channels=256, img_channels=3).to(\"cuda\")\n",
    "generator = load_genA2B(\"./path/to/checkpoint.pth\", gen_A2B_loaded)\n",
    "test_on_celeba(generator, num_steps=3, fake_dir=\"eval_images/fake\")\n",
    "\n",
    "\n",
    "import random\n",
    "import shutil\n",
    "import os\n",
    "\n",
    "def sample_images(input_dir, output_dir, num_samples):\n",
    "    os.makedirs(output_dir, exist_ok=True)\n",
    "    image_files = [f for f in os.listdir(input_dir) if f.endswith(('.png', '.jpg'))]\n",
    "    sampled_files = random.sample(image_files, num_samples)\n",
    "    for file in sampled_files:\n",
    "        shutil.copy(os.path.join(input_dir, file), os.path.join(output_dir, file))\n",
    "\n",
    "# Match the number of images in real_dir to fake_dir\n",
    "sample_images(\"data/vangogh/train\", \"./eval_images/real_sampled\", num_samples=len(os.listdir(fake_dir)))\n",
    "\n",
    "# Evaluate\n",
    "real_dir = \"data/vangogh/train\"\n",
    "fake_dir = \"./eval_images/fake\"\n",
    "\n",
    "fid_score = compute_fid(real_dir, fake_dir)\n",
    "print(f\"FID Score: {fid_score}\")\n",
    "\n",
    "inception_score = compute_inception_score(fake_dir)\n",
    "print(f\"Inception Score: {inception_score}\")\n"
   ]
  }
 ],
 "metadata": {
  "kernelspec": {
   "display_name": "pytorch-gpu",
   "language": "python",
   "name": "python3"
  },
  "language_info": {
   "name": "python",
   "version": "3.9.19"
  }
 },
 "nbformat": 4,
 "nbformat_minor": 2
}
